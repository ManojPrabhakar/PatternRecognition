{
  "nbformat": 4,
  "nbformat_minor": 0,
  "metadata": {
    "colab": {
      "name": "Task_1.3.ipynb",
      "version": "0.3.2",
      "provenance": [],
      "collapsed_sections": []
    },
    "kernelspec": {
      "name": "python2",
      "display_name": "Python 2"
    }
  },
  "cells": [
    {
      "cell_type": "code",
      "metadata": {
        "id": "X7ILGYcCuHLF",
        "colab_type": "code",
        "colab": {
          "base_uri": "https://localhost:8080/",
          "height": 363
        },
        "outputId": "abfe1fc6-0bc6-4564-feaf-a145b05ea23d"
      },
      "source": [
        "import numpy as np\n",
        "import matplotlib.pyplot as mat\n",
        "import scipy as sh\n",
        "import math as ma\n",
        "import scipy.stats as sh\n",
        "from numpy.linalg import inv\n",
        "\n",
        "# Class to Manange and plot the fit curve for Weibull Distribution\n",
        "class Weibull:\n",
        "    def __init__(self):\n",
        "        data = np.genfromtxt('myspace.csv',delimiter=',')      \n",
        "        GoogleData =data[:,1].astype(np.int)\n",
        "        Counter = []\n",
        "        \n",
        "        length=len(GoogleData)\n",
        "        x=np.arange(1, length+1)\n",
        "        data = []\n",
        "        for i in range(len(GoogleData)):\n",
        "            for j in range(GoogleData[i]):\n",
        "                if x[i] > 0:\n",
        "                    data.append(x[i])\n",
        "\n",
        "        self.hid = data\n",
        "        self.original = GoogleData\n",
        "\n",
        "    def NewtonWeib(self, s):\n",
        "        Num = len(s)\n",
        "        alpha = 1.0\n",
        "        kappa = 1.0\n",
        "        \n",
        "        for i in range(20):\n",
        "            alphaMatrix = np.array([[kappa], [alpha]])\n",
        "            first = 0.0\n",
        "            second = 0.0\n",
        "            third = 0.0\n",
        "            fourth = 0.0\n",
        "            for i in range(len(s)):\n",
        "                first += ma.log(s[i])\n",
        "                second += (s[i] / alpha) ** kappa * ma.log(s[i] / alpha)\n",
        "                third += (s[i] / alpha) ** kappa\n",
        "                fourth += (s[i] / alpha) ** kappa * ma.log(s[i] / alpha, 2) ** 2\n",
        "            dis1 = Num / kappa - Num * ma.log(alpha) + first - second\n",
        "            dis2 = (kappa / alpha) * (third - Num)\n",
        "            dis3 = (-1 * Num) / (kappa * kappa) - fourth\n",
        "            dis4 = (kappa / (alpha * alpha)) * (Num - ((kappa + 1) * third))\n",
        "            dis5 = (1.0 / alpha) * third + (kappa / alpha) * second - Num / alpha\n",
        "\n",
        "            Matrix = np.matrix([[dis3, dis5], [dis5, dis4]])\n",
        "            mult = inv(Matrix) * np.matrix([[-1.0 * dis1], [-1.0 * dis2]])\n",
        "            alphaMatrix = alphaMatrix + mult\n",
        "            kappa = alphaMatrix[0, 0]\n",
        "            alpha = alphaMatrix[1, 0]\n",
        "        return alpha, kappa\n",
        "\n",
        "    # Create the data for plotting the points\n",
        "    def PlotCreation(self,alpha,k):\n",
        "        Original_X = []\n",
        "        Original_Y = []\n",
        "        for i in range(len(self.original)):\n",
        "            Original_X.append(i)\n",
        "            Original_Y.append(self.original[i])\n",
        "\n",
        "        Plot1 = np.array([Original_X, Original_Y])\n",
        "        Weibull_X = np.arange(1.0, len(self.original))\n",
        "        Weibull_Y =[]\n",
        "        for i in Weibull_X:\n",
        "            Weibull_Y.append(weibull(i, alpha, k))\n",
        "        #Scaling the plot\n",
        "        scale = 100.0 / max(Weibull_Y)+2\n",
        "\n",
        "        \n",
        "        Plot2 = np.array([Weibull_X, np.array(Weibull_Y) * scale])\n",
        "        dataPlot(Plot1, Plot2, 'WeibullFit.pdf')\n",
        "        dataPlot(Plot1, Plot2)\n",
        "\n",
        "#Function to plot the data\n",
        "def dataPlot(google, original, filename=None):\n",
        "   \n",
        "    ##create the plot\n",
        "    figure = mat.figure()\n",
        "    figure.suptitle('Weibull distribution', fontsize=16)\n",
        "    axes = figure.add_subplot(111)\n",
        "    axes.plot(google[0, :], google[1, :], label='Google ',color='blue')\n",
        "    axes.plot(original[0, :], original[1, :], label='Weibull',color='red')\n",
        "    prop = axes.legend(loc='upper right', shadow=True, fancybox=True, numpoints=1)\n",
        "    prop.get_frame().set_alpha(0.6)\n",
        "    ##set the plot limitss\n",
        "    axes.set_xlim(0, 600)\n",
        "    axes.set_ylim(0, 130)\n",
        "\n",
        "    #display the file or save it\n",
        "  \n",
        "    if filename == None:\n",
        "        mat.show()\n",
        "    else:\n",
        "        mat.savefig(filename, facecolor='w', edgecolor='c',\n",
        "                    papertype=None, format='pdf', transparent=False,\n",
        "                    bbox_inches='tight', pad_inches=0.5)\n",
        "    mat.close('all')\n",
        "##Weibull    \n",
        "def weibull(x, alpha, beta):\n",
        "  return (beta / alpha) * ((x / alpha) ** (beta - 1)) * (ma.exp(- ((x / alpha) ** beta)))        \n",
        "\n",
        "#Initializing Weibull class\n",
        "plot = Weibull()\n",
        "alpha, kappa = plot.NewtonWeib(plot.hid)\n",
        "print(\"************\")\n",
        "print(\"\\n Values calculated using Newtons Procedure after 20 iterations  = \", alpha, kappa)\n",
        "Weibull_parameters = sh.exponweib.fit(plot.hid, floc=0, f0=1)\n",
        "print(\"\\n Values calculated using Exponential Weibull= \",Weibull_parameters[3],Weibull_parameters[1])\n",
        "print(\"************\")\n",
        "plot.PlotCreation(alpha,kappa)"
      ],
      "execution_count": 7,
      "outputs": [
        {
          "output_type": "stream",
          "text": [
            "************\n",
            "('\\n Values calculated using Newtons Procedure after 20 iterations  = ', 244.22801152064642, 3.2049511041118075)\n",
            "('\\n Values calculated using Exponential Weibull= ', 244.26609002172444, 3.2084885007428507)\n",
            "************\n"
          ],
          "name": "stdout"
        },
        {
          "output_type": "display_data",
          "data": {
            "image/png": "[encoded data removed]",
            "text/plain": [
              "<Figure size 432x288 with 1 Axes>"
            ]
          },
          "metadata": {
            "tags": []
          }
        }
      ]
    }
  ]
}