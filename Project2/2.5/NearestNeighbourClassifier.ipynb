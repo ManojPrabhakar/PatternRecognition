{
 "cells": [
  {
   "cell_type": "code",
   "execution_count": 2,
   "metadata": {},
   "outputs": [
    {
     "name": "stdout",
     "output_type": "stream",
     "text": [
      "('The value of k = ', 1)\n",
      "Time elapsed: 0.4283 seconds\n",
      "Accuracy rate:  88.542%\n",
      "('The value of k = ', 3)\n",
      "Time elapsed: 0.4570 seconds\n",
      "Accuracy rate:  89.583%\n",
      "('The value of k = ', 5)\n",
      "Time elapsed: 0.4434 seconds\n",
      "Accuracy rate:  93.750%\n"
     ]
    }
   ],
   "source": [
    "import scipy.spatial as sp\n",
    "import matplotlib.pyplot as plt\n",
    "import numpy as np\n",
    "import time\n",
    "import math\n",
    "\n",
    "def main():\n",
    "\ttrain_data=data = np.genfromtxt('data2-train.dat',delimiter=None)\n",
    "\ttest_data= np.genfromtxt('data2-test.dat',delimiter=None)\n",
    "\tkNearestNeighbour(1,train_data,test_data)\n",
    "\tkNearestNeighbour(3,train_data,test_data)\n",
    "\tkNearestNeighbour(5,train_data,test_data)\n",
    "def convert_to_column(mat,i):\n",
    "  return [float(row[i]) for row in mat]        \n",
    "\n",
    "def kNearestNeighbour(k,trainData, testData):\n",
    "\tfinal = []\n",
    "\tprint(\"The value of k = \",k)\n",
    "\ttrain_x = np.asarray(convert_to_column(trainData,0))\n",
    "\ttrain_y = np.asarray(convert_to_column(trainData,1))\n",
    "\ttest_x = np.asarray(convert_to_column(testData,0))\n",
    "\ttest_y = np.asarray(convert_to_column(testData,1))\n",
    "\n",
    "\tlabels_train = np.asarray(convert_to_column(trainData,2))\n",
    "\tlabels_test = np.asarray(convert_to_column(testData,2))\n",
    "\n",
    "\t\n",
    "\taccuracy = 0\n",
    "\ttotal_sum = 0\n",
    "\tstart = time.time()\n",
    "\tfor i in range(test_x.shape[0]):\n",
    "\t\txi = test_x[i]\n",
    "\t\tyi = test_y[i]\n",
    "\t\ttemp_list = []\n",
    "\n",
    "\t\tfor j in range(train_x.shape[0]):\n",
    "\t\t\txj = train_x[j]\n",
    "\t\t\tyj = train_y[j]\n",
    "\t\t\tlabel = labels_train[j]\n",
    "\t\t\tdist = sp.distance.euclidean([xi,yi],[xj,yj])\n",
    "\t\t\ttemp_list.append([dist,label])\n",
    "\t\ttemp_list = np.asarray(temp_list)\n",
    "\t\ttemp_list = temp_list[np.argsort(temp_list[:,0])][0:k]\n",
    "\t\tresult = 1.0 if sum(temp_list[:,1]) > 0 else -1.0\n",
    "\t\tif labels_test[i] == result :\n",
    "\t\t\taccuracy += 1.0\n",
    "\t\ttotal_sum += 1.0\n",
    "\tend = time.time()\n",
    "\ttime_elapsed = end-start\n",
    "\taccuracy_rate=(accuracy / total_sum * 100.0)\n",
    "\tprint \"Time elapsed: %.4f seconds\"%time_elapsed\n",
    "\tprint \"Accuracy rate:  %.3f%%\" % accuracy_rate\n",
    "\t\n",
    "\n",
    "main() "
   ]
  },
  {
   "cell_type": "code",
   "execution_count": null,
   "metadata": {},
   "outputs": [],
   "source": []
  }
 ],
 "metadata": {
  "kernelspec": {
   "display_name": "Python 2",
   "language": "python",
   "name": "python2"
  },
  "language_info": {
   "codemirror_mode": {
    "name": "ipython",
    "version": 2
   },
   "file_extension": ".py",
   "mimetype": "text/x-python",
   "name": "python",
   "nbconvert_exporter": "python",
   "pygments_lexer": "ipython2",
   "version": "2.7.15"
  }
 },
 "nbformat": 4,
 "nbformat_minor": 2
}
