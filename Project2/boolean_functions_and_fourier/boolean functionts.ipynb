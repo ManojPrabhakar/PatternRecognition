{
 "cells": [
  {
   "cell_type": "code",
   "execution_count": 1,
   "metadata": {},
   "outputs": [],
   "source": [
    "import numpy as np\n",
    "import numpy.linalg as la"
   ]
  },
  {
   "cell_type": "code",
   "execution_count": 2,
   "metadata": {},
   "outputs": [
    {
     "name": "stdout",
     "output_type": "stream",
     "text": [
      "(3, 8) (8, 3)\n"
     ]
    }
   ],
   "source": [
    "x = np.array([\n",
    "    [1, 1, 1],\n",
    "    [1, 1, -1],\n",
    "    [1, -1, 1],\n",
    "    [1, -1, -1],\n",
    "    [-1, 1, 1],\n",
    "    [-1, 1, -1],\n",
    "    [-1, -1, 1],\n",
    "    [-1, -1, -1]\n",
    "])\n",
    "\n",
    "x_t = x.T\n",
    "\n",
    "y = np.array([-1, 1, 1, 1, -1, 1, 1, -1])\n",
    "\n",
    "print(x_t.shape, x.shape)"
   ]
  },
  {
   "cell_type": "code",
   "execution_count": 3,
   "metadata": {},
   "outputs": [],
   "source": [
    "def linear_regression(x, y):\n",
    "    x = np.hstack((x, np.ones((x.shape[0], 1))))\n",
    "    w = np.dot(la.pinv(x), y)\n",
    "    return x, w"
   ]
  },
  {
   "cell_type": "code",
   "execution_count": 4,
   "metadata": {},
   "outputs": [
    {
     "name": "stdout",
     "output_type": "stream",
     "text": [
      "[-3.88578059e-16  5.00000000e-01  5.00000000e-01  1.00000000e+00\n",
      " -5.00000000e-01 -5.55111512e-17 -1.66533454e-16  5.00000000e-01]\n",
      "[ 1.  -0.5 -0.5  0.   0.5 -1.  -1.   1.5]\n"
     ]
    }
   ],
   "source": [
    "extended_x, w = linear_regression(x,y) \n",
    "y_hat = np.dot(extended_x, w)\n",
    "print(y_hat)\n",
    "print(y_hat - y)"
   ]
  },
  {
   "cell_type": "markdown",
   "metadata": {},
   "source": [
    "### Parity function"
   ]
  },
  {
   "cell_type": "code",
   "execution_count": 5,
   "metadata": {},
   "outputs": [],
   "source": [
    "from itertools import permutations, combinations\n",
    "from operator import itemgetter "
   ]
  },
  {
   "cell_type": "code",
   "execution_count": 6,
   "metadata": {},
   "outputs": [],
   "source": [
    "def parity_function(x):\n",
    "    power_set = []\n",
    "    indexes = np.arange(len(x))\n",
    "\n",
    "    for i in range(len(x)):\n",
    "        power_set.append(combinations(indexes, i+1))\n",
    "\n",
    "    output = [1]\n",
    "\n",
    "    for power in power_set:\n",
    "        for index in power:\n",
    "            index = list(index)\n",
    "            items = itemgetter(*index)(x)\n",
    "            if len(index) > 1:\n",
    "                output.append(np.prod(list(items)))\n",
    "            else:\n",
    "                output.append(items)\n",
    "\n",
    "    return output"
   ]
  },
  {
   "cell_type": "code",
   "execution_count": 7,
   "metadata": {},
   "outputs": [
    {
     "name": "stdout",
     "output_type": "stream",
     "text": [
      "[1, 2, 3, 4, 6, 8, 12, 24]\n"
     ]
    }
   ],
   "source": [
    "print(parity_function([2,3,4]))"
   ]
  },
  {
   "cell_type": "code",
   "execution_count": 8,
   "metadata": {},
   "outputs": [
    {
     "name": "stdout",
     "output_type": "stream",
     "text": [
      "[-1.  1.  1.  1. -1.  1.  1. -1.]\n",
      "[-1  1  1  1 -1  1  1 -1]\n"
     ]
    }
   ],
   "source": [
    "features = []\n",
    "for row in x:\n",
    "    features.append(parity_function(row))\n",
    "\n",
    "extended_x, w = linear_regression(np.array(features),y) \n",
    "y_hat = np.dot(extended_x, w)\n",
    "print(y_hat)\n",
    "print(y)"
   ]
  },
  {
   "cell_type": "code",
   "execution_count": null,
   "metadata": {},
   "outputs": [],
   "source": []
  }
 ],
 "metadata": {
  "kernelspec": {
   "display_name": "Python 3",
   "language": "python",
   "name": "python3"
  },
  "language_info": {
   "codemirror_mode": {
    "name": "ipython",
    "version": 3
   },
   "file_extension": ".py",
   "mimetype": "text/x-python",
   "name": "python",
   "nbconvert_exporter": "python",
   "pygments_lexer": "ipython3",
   "version": "3.7.1"
  }
 },
 "nbformat": 4,
 "nbformat_minor": 2
}
