{
 "cells": [
  {
   "cell_type": "markdown",
   "metadata": {},
   "source": [
    "# Task 2.1: Least squares regression for missing value prediction"
   ]
  },
  {
   "cell_type": "markdown",
   "metadata": {},
   "source": [
    "# Task 2.3: Bayesian regression for missing value prediction"
   ]
  },
  {
   "cell_type": "code",
   "execution_count": 2,
   "metadata": {},
   "outputs": [],
   "source": [
    "import numpy as np\n",
    "import matplotlib.pyplot as plt"
   ]
  },
  {
   "cell_type": "markdown",
   "metadata": {},
   "source": [
    "## Data"
   ]
  },
  {
   "cell_type": "code",
   "execution_count": 3,
   "metadata": {},
   "outputs": [],
   "source": [
    "dt = np.dtype([('w', np.float), ('h', np.float), ('g', np.str_, 1)])\n",
    "data = np.loadtxt('whData.dat', dtype=dt, comments='#', delimiter=None)"
   ]
  },
  {
   "cell_type": "code",
   "execution_count": 4,
   "metadata": {},
   "outputs": [],
   "source": [
    "x = data['h'] # height\n",
    "y = data['w'] # weight"
   ]
  },
  {
   "cell_type": "code",
   "execution_count": 5,
   "metadata": {},
   "outputs": [],
   "source": [
    "data_wo = data[data['w'] > -1] # data without outliers\n",
    "x_wo = data_wo['h'] # height without outliers\n",
    "y_wo = data_wo['w'] # weight without outliers\n",
    "outliers = data[data['w'] == -1]"
   ]
  },
  {
   "cell_type": "markdown",
   "metadata": {},
   "source": [
    "## Functions"
   ]
  },
  {
   "cell_type": "code",
   "execution_count": 6,
   "metadata": {},
   "outputs": [],
   "source": [
    "# Returns y = w0 + w1*x + w2*x^2 + w3*x^3 + w4*x^4 + ... + wd*x^d\n",
    "# Variables:-\n",
    "#   w: array of weights\n",
    "#   x: value\n",
    "#   d: degree of polynomial\n",
    "def curve(w, x, d):\n",
    "    y = 0\n",
    "    for i in range(d+1):\n",
    "        y += w[i] * x**i\n",
    "    return y"
   ]
  },
  {
   "cell_type": "code",
   "execution_count": 7,
   "metadata": {},
   "outputs": [],
   "source": [
    "# Returns predictions for a dataset using function curve\n",
    "# Variables:-\n",
    "#   xs: dataset\n",
    "#   w: array of weights\n",
    "#   d: degree of polynomial\n",
    "def predict(xs, w, d):\n",
    "    y = []\n",
    "    for x in xs:\n",
    "        y.append(curve(w, x, d))    \n",
    "    y = np.array(y)\n",
    "    \n",
    "    return y"
   ]
  },
  {
   "cell_type": "markdown",
   "metadata": {},
   "source": [
    "## Detecting weights"
   ]
  },
  {
   "cell_type": "markdown",
   "metadata": {},
   "source": [
    "###  Least Square Regression"
   ]
  },
  {
   "cell_type": "code",
   "execution_count": 8,
   "metadata": {},
   "outputs": [],
   "source": [
    "# Calculates and returns weights for polynomial using least square regression\n",
    "# Variables:-\n",
    "#   x: data\n",
    "#   y: label\n",
    "#   d: degree of polynomial\n",
    "def get_w_mle(x, y, d):\n",
    "    X = np.ones(x.shape)\n",
    "    for i in range(d):\n",
    "        X = np.vstack((X, x**(i+1)))\n",
    "        \n",
    "    sigmasq = np.var(y)\n",
    "    w_mle = np.linalg.lstsq(X.T, y_wo)[0]\n",
    "    \n",
    "    return w_mle"
   ]
  },
  {
   "cell_type": "markdown",
   "metadata": {},
   "source": [
    "#### Plot"
   ]
  },
  {
   "cell_type": "code",
   "execution_count": 9,
   "metadata": {},
   "outputs": [
    {
     "name": "stderr",
     "output_type": "stream",
     "text": [
      "C:\\tools\\Anaconda3\\lib\\site-packages\\ipykernel_launcher.py:12: FutureWarning: `rcond` parameter will change to the default of machine precision times ``max(M, N)`` where M and N are the input matrix dimensions.\n",
      "To use the future default and silence this warning we advise to pass `rcond=None`, to keep using the old, explicitly pass `rcond=-1`.\n",
      "  if sys.path[0] == '':\n"
     ]
    },
    {
     "data": {
      "text/plain": [
       "<matplotlib.legend.Legend at 0x1ee2fd01b38>"
      ]
     },
     "execution_count": 9,
     "metadata": {},
     "output_type": "execute_result"
    },
    {
     "data": {
      "image/png": "[encoded data removed]",
      "text/plain": [
       "<Figure size 432x288 with 1 Axes>"
      ]
     },
     "metadata": {
      "needs_background": "light"
     },
     "output_type": "display_data"
    }
   ],
   "source": [
    "plt.scatter(x_wo, y_wo)\n",
    "x_plot = np.arange(np.amin(x_wo)-5,np.amax(x_wo)+5,0.1)\n",
    "\n",
    "# Polynomial Regression. d = 1\n",
    "w_mle_1 = get_w_mle(x_wo, y_wo, 1)\n",
    "y_mle_1 = predict(x_plot, w_mle_1, 1)\n",
    "\n",
    "# Polynomial Regression. d = 5\n",
    "w_mle_5 = get_w_mle(x_wo, y_wo, 5)\n",
    "y_mle_5 = predict(x_plot, w_mle_5, 5)\n",
    "\n",
    "# Polynomial Regression. d = 10\n",
    "w_mle_10 = get_w_mle(x_wo, y_wo, 10)\n",
    "y_mle_10 = predict(x_plot, w_mle_10, 10)\n",
    "\n",
    "plt.plot(x_plot, y_mle_1)\n",
    "plt.plot(x_plot, y_mle_5)\n",
    "plt.plot(x_plot, y_mle_10)\n",
    "plt.gca().legend(('d=1','d=5','d=10'))"
   ]
  },
  {
   "cell_type": "markdown",
   "metadata": {},
   "source": [
    "#### Predictions"
   ]
  },
  {
   "cell_type": "code",
   "execution_count": 10,
   "metadata": {},
   "outputs": [
    {
     "name": "stdout",
     "output_type": "stream",
     "text": [
      "d = 1:  [62.50890849 68.98114513 60.89084933]\n",
      "d = 5:  [58.72437298 69.63454013 56.0735325 ]\n",
      "d = 10:  [58.0452381  69.48472924 55.46584172]\n"
     ]
    }
   ],
   "source": [
    "print(\"d = 1: \", predict(outliers['h'], w_mle_1, 1))\n",
    "print(\"d = 5: \", predict(outliers['h'], w_mle_5, 5))\n",
    "print(\"d = 10: \", predict(outliers['h'], w_mle_10, 10))"
   ]
  },
  {
   "cell_type": "markdown",
   "metadata": {},
   "source": [
    "### Bayesian Regression"
   ]
  },
  {
   "cell_type": "code",
   "execution_count": 11,
   "metadata": {},
   "outputs": [],
   "source": [
    "# Calculates and returns weights for polynomial using bayesian regression\n",
    "# Variables:-\n",
    "#   x: data\n",
    "#   y: label\n",
    "#   d: degree of polynomial\n",
    "def get_w_map(x, y, d, sigma0sq):\n",
    "    I = np.identity(d+1)\n",
    "    X = np.ones(x.shape)\n",
    "    for i in range(d):\n",
    "        X = np.vstack((X, x**(i+1)))\n",
    "    \n",
    "    sigmasq = np.var(y)\n",
    "    w_map = np.dot(np.dot(np.linalg.inv(np.dot(X,X.T) + sigmasq/sigma0sq * I),X),y)\n",
    "    \n",
    "    return w_map"
   ]
  },
  {
   "cell_type": "markdown",
   "metadata": {},
   "source": [
    "#### Plot"
   ]
  },
  {
   "cell_type": "code",
   "execution_count": 12,
   "metadata": {},
   "outputs": [
    {
     "name": "stderr",
     "output_type": "stream",
     "text": [
      "C:\\tools\\Anaconda3\\lib\\site-packages\\ipykernel_launcher.py:12: FutureWarning: `rcond` parameter will change to the default of machine precision times ``max(M, N)`` where M and N are the input matrix dimensions.\n",
      "To use the future default and silence this warning we advise to pass `rcond=None`, to keep using the old, explicitly pass `rcond=-1`.\n",
      "  if sys.path[0] == '':\n"
     ]
    },
    {
     "data": {
      "text/plain": [
       "<matplotlib.legend.Legend at 0x1ee2fdc9940>"
      ]
     },
     "execution_count": 12,
     "metadata": {},
     "output_type": "execute_result"
    },
    {
     "data": {
      "image/png": "[encoded data removed]",
      "text/plain": [
       "<Figure size 432x288 with 1 Axes>"
      ]
     },
     "metadata": {
      "needs_background": "light"
     },
     "output_type": "display_data"
    }
   ],
   "source": [
    "sigma0sq = 3.0\n",
    "plt.scatter(x_wo, y_wo)\n",
    "x_plot = np.arange(np.amin(x_wo)-5,np.amax(x_wo)+5,0.1)\n",
    "\n",
    "# Bayesian Regression. d = 5\n",
    "w_map = get_w_map(x_wo, y_wo, 5, sigma0sq)\n",
    "y_map = predict(x_plot, w_map, 5)\n",
    "\n",
    "# Polynomial Regression. d = 5\n",
    "w_mle = get_w_mle(x_wo, y_wo, 5)\n",
    "y_mle = predict(x_plot, w_mle, 5)\n",
    "\n",
    "plt.plot(x_plot, y_map)\n",
    "plt.plot(x_plot, y_mle)\n",
    "plt.gca().legend(('Baysian Regression','Polynomial Regression'))"
   ]
  },
  {
   "cell_type": "markdown",
   "metadata": {},
   "source": [
    "#### Predictions"
   ]
  },
  {
   "cell_type": "code",
   "execution_count": 13,
   "metadata": {
    "scrolled": true
   },
   "outputs": [
    {
     "name": "stdout",
     "output_type": "stream",
     "text": [
      "d = 5:  [61.29383185 68.5821912  59.62399567]\n"
     ]
    }
   ],
   "source": [
    "print(\"d = 5: \", predict(outliers['h'], w_map, 5))"
   ]
  }
 ],
 "metadata": {
  "kernelspec": {
   "display_name": "Python 3",
   "language": "python",
   "name": "python3"
  },
  "language_info": {
   "codemirror_mode": {
    "name": "ipython",
    "version": 3
   },
   "file_extension": ".py",
   "mimetype": "text/x-python",
   "name": "python",
   "nbconvert_exporter": "python",
   "pygments_lexer": "ipython3",
   "version": "3.7.1"
  }
 },
 "nbformat": 4,
 "nbformat_minor": 2
}
